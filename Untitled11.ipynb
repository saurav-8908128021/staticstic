{
 "cells": [
  {
   "cell_type": "markdown",
   "metadata": {},
   "source": [
    " problem Statement 1:\n",
    "\n",
    "A test is conducted which is consisting of 20 MCQs (multiple choices questions) with every\n",
    "MCQ having its four options out of which only one is correct. Determine the probability that\n",
    "a person undertaking that test has answered exactly 5 questions wrong. "
   ]
  },
  {
   "cell_type": "code",
   "execution_count": null,
   "metadata": {},
   "outputs": [],
   "source": [
    "ANS- If he answered 5 wrong questions then he would have been answered 15 questions perfectly.\n",
    "-3/4 is the probability if a quastion ANS will be wrong.\n",
    "-1/4 is the probability if the Quastion Ans will be correct.\n",
    " if we get 20 Question means each quastion having 4 option\n",
    "--20*4=80--> total no of option present for 20 Question.\n",
    "-- exactly 5 questions wrong means 15 questions correct.\n",
    "p(x)=ncx*p^x*(1-p)n-x=20c5*(3/4)^5*(1-3/4)^20-5=20c5*(3/4)^5*(1/4)^15=0.00000003\n",
    "       ncx=n!/X!(n-x)!=20!/5!(20-5)!=1.55006\n",
    "\n",
    "    \n",
    "    "
   ]
  },
  {
   "cell_type": "markdown",
   "metadata": {},
   "source": [
    "Problem Statement 2:\n",
    "    \n",
    "A die marked A to E is rolled 50 times. Find the probability of getting a “D” exactly\n",
    "5 times."
   ]
  },
  {
   "cell_type": "raw",
   "metadata": {},
   "source": [
    "ANS-\n",
    "formula-\n",
    "p(x)=ncx*p^x*(1-p)n-x\n",
    "       ncx=n!/X!(n-x)!=50!/5!(50-5)!=2.11\n",
    "    \n",
    "    p(x)=50c5*1/5^5*(1-1/5)50-5=50c5*1/5^5*(4/5)45=0.45\n",
    "    \n",
    "          "
   ]
  },
  {
   "cell_type": "markdown",
   "metadata": {},
   "source": [
    " Problem Statement 3:\n",
    "    \n",
    "Two balls are drawn at random in succession without replacement from an urn\n",
    "containing 4 red balls and 6 black balls.\n",
    "Find the probabilities of all the possible outcomes."
   ]
  },
  {
   "cell_type": "raw",
   "metadata": {},
   "source": [
    "Ans-\n",
    "\n",
    "\n",
    "Total Outcomes= 6+4 = 10\n",
    "\n",
    "A=probability of getting red ball= 4/10=2/5\n",
    "\n",
    "B=probability of getting black ball = 6/10 = 3/5\n",
    "\n",
    "--> p(A)*p(B/A)=2.5*1.5=3.75\n",
    "-->P(A or B)=p(A)+p(B)=2/5+3/5\n",
    "--->p(A or B)= joint probability=p(A)+p(B)-p(A or B)=2/5 +3/5 - 1/5=4/5\n",
    "\n"
   ]
  }
 ],
 "metadata": {
  "kernelspec": {
   "display_name": "Python 3",
   "language": "python",
   "name": "python3"
  },
  "language_info": {
   "codemirror_mode": {
    "name": "ipython",
    "version": 3
   },
   "file_extension": ".py",
   "mimetype": "text/x-python",
   "name": "python",
   "nbconvert_exporter": "python",
   "pygments_lexer": "ipython3",
   "version": "3.7.3"
  }
 },
 "nbformat": 4,
 "nbformat_minor": 2
}
